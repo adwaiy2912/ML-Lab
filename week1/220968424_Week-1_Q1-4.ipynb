{
 "cells": [
  {
   "cell_type": "markdown",
   "id": "d404bec3",
   "metadata": {},
   "source": [
    "## Name : Adwaiy Singh\n",
    "## Reg. No. : 220968424\n",
    "## Sec. : A\n",
    "## Batch: 2\n",
    "\n",
    "# WEEK 1\n",
    "## Q 1 to 4"
   ]
  },
  {
   "cell_type": "markdown",
   "id": "ad56f008",
   "metadata": {},
   "source": [
    "### Q1. Find the mean, median, mode, variance, and standard deviation of a list. (import statistics)"
   ]
  },
  {
   "cell_type": "code",
   "execution_count": 23,
   "id": "d0a1d5df",
   "metadata": {},
   "outputs": [
    {
     "name": "stdout",
     "output_type": "stream",
     "text": [
      "Mean =  30\n",
      "Median =  30\n",
      "Mode =  10\n",
      "Variance =  250\n",
      "Standard deviation =  15.811388300841896\n"
     ]
    }
   ],
   "source": [
    "import statistics as stats\n",
    "lst = [10, 20, 30, 40, 50]\n",
    "print(\"Mean = \", stats.mean(lst))\n",
    "print(\"Median = \", stats.median(lst))\n",
    "print(\"Mode = \", stats.mode(lst))\n",
    "print(\"Variance = \", stats.variance(lst))\n",
    "print(\"Standard deviation = \", stats.stdev(lst))"
   ]
  },
  {
   "cell_type": "markdown",
   "id": "c8814f56",
   "metadata": {},
   "source": [
    "### Q2. Create a list of numbers and use list comprehension to generate a new list with the squares of each number"
   ]
  },
  {
   "cell_type": "code",
   "execution_count": 24,
   "id": "0687f129",
   "metadata": {},
   "outputs": [
    {
     "name": "stdout",
     "output_type": "stream",
     "text": [
      "[100, 400, 900, 1600, 2500]\n"
     ]
    }
   ],
   "source": [
    "sq = [x*x for x in lst]\n",
    "print(sq)"
   ]
  },
  {
   "cell_type": "markdown",
   "id": "99439771",
   "metadata": {},
   "source": [
    "### Q3. Write a function that takes a tuple of numbers and returns the product of all the elements."
   ]
  },
  {
   "cell_type": "code",
   "execution_count": 25,
   "id": "1b5b651e",
   "metadata": {},
   "outputs": [
    {
     "name": "stdout",
     "output_type": "stream",
     "text": [
      "384\n"
     ]
    }
   ],
   "source": [
    "def func(tup):\n",
    "    prod = 1\n",
    "    for x in tup:\n",
    "        prod *= x\n",
    "    return prod\n",
    "\n",
    "tup = (2, 4, 6, 8)\n",
    "print(func(tup))"
   ]
  },
  {
   "cell_type": "markdown",
   "id": "9a7cce81",
   "metadata": {},
   "source": [
    "### Q4. Write a program that counts the frequency of each letter in each string and stores the results in a dictionary."
   ]
  },
  {
   "cell_type": "code",
   "execution_count": 26,
   "id": "3c2fd945",
   "metadata": {},
   "outputs": [
    {
     "name": "stdout",
     "output_type": "stream",
     "text": [
      "{'H': 1, 'e': 1, 'l': 3, 'o': 2, ' ': 1, 'W': 1, 'r': 1, 'd': 1}\n"
     ]
    }
   ],
   "source": [
    "string = \"Hello World\"\n",
    "dic = {}\n",
    "\n",
    "for x in string:\n",
    "    if x in dic.keys():\n",
    "        dic[x] += 1\n",
    "    else:\n",
    "        dic[x] = 1\n",
    "\n",
    "print(dic)"
   ]
  },
  {
   "cell_type": "code",
   "execution_count": null,
   "id": "60f353bf",
   "metadata": {},
   "outputs": [],
   "source": []
  }
 ],
 "metadata": {
  "kernelspec": {
   "display_name": "Python 3 (ipykernel)",
   "language": "python",
   "name": "python3"
  },
  "language_info": {
   "codemirror_mode": {
    "name": "ipython",
    "version": 3
   },
   "file_extension": ".py",
   "mimetype": "text/x-python",
   "name": "python",
   "nbconvert_exporter": "python",
   "pygments_lexer": "ipython3",
   "version": "3.9.6"
  }
 },
 "nbformat": 4,
 "nbformat_minor": 5
}
