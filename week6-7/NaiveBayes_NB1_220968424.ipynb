{
 "cells": [
  {
   "cell_type": "markdown",
   "id": "527e64d1",
   "metadata": {},
   "source": [
    "## Name : Adwaiy Singh\n",
    "## Reg. No. : 220968424\n",
    "## Sec. : A\n",
    "## Batch: 2\n",
    "\n",
    "# Week 6\n",
    "## Naive Bayes"
   ]
  },
  {
   "cell_type": "markdown",
   "id": "49637508",
   "metadata": {},
   "source": [
    "### 1. Import libraries"
   ]
  },
  {
   "cell_type": "code",
   "execution_count": 49,
   "id": "8edc6604",
   "metadata": {},
   "outputs": [],
   "source": [
    "import pandas as pd\n",
    "import numpy as np\n",
    "import matplotlib.pyplot as plt\n",
    "import seaborn as sns\n",
    "from statistics import *\n",
    "\n",
    "from sklearn.model_selection import train_test_split\n",
    "from sklearn.metrics import *\n",
    "from sklearn.preprocessing import MinMaxScaler, LabelEncoder\n",
    "from sklearn.naive_bayes import GaussianNB\n",
    "from sklearn.model_selection import cross_val_score\n",
    "from sklearn.model_selection import StratifiedKFold"
   ]
  },
  {
   "cell_type": "markdown",
   "id": "8099e9d6",
   "metadata": {},
   "source": [
    "### 2. Import dataset "
   ]
  },
  {
   "cell_type": "code",
   "execution_count": 50,
   "id": "347c78d2",
   "metadata": {},
   "outputs": [
    {
     "data": {
      "text/html": [
       "<div>\n",
       "<style scoped>\n",
       "    .dataframe tbody tr th:only-of-type {\n",
       "        vertical-align: middle;\n",
       "    }\n",
       "\n",
       "    .dataframe tbody tr th {\n",
       "        vertical-align: top;\n",
       "    }\n",
       "\n",
       "    .dataframe thead th {\n",
       "        text-align: right;\n",
       "    }\n",
       "</style>\n",
       "<table border=\"1\" class=\"dataframe\">\n",
       "  <thead>\n",
       "    <tr style=\"text-align: right;\">\n",
       "      <th></th>\n",
       "      <th>age</th>\n",
       "      <th>work</th>\n",
       "      <th>fnlwgt</th>\n",
       "      <th>education</th>\n",
       "      <th>education-num</th>\n",
       "      <th>marital-status</th>\n",
       "      <th>occupation</th>\n",
       "      <th>relationship</th>\n",
       "      <th>race</th>\n",
       "      <th>sex</th>\n",
       "      <th>gain</th>\n",
       "      <th>loss</th>\n",
       "      <th>hpw</th>\n",
       "      <th>country</th>\n",
       "      <th>income</th>\n",
       "    </tr>\n",
       "  </thead>\n",
       "  <tbody>\n",
       "    <tr>\n",
       "      <th>0</th>\n",
       "      <td>50</td>\n",
       "      <td>Self-emp-not-inc</td>\n",
       "      <td>83311</td>\n",
       "      <td>Bachelors</td>\n",
       "      <td>13</td>\n",
       "      <td>Married-civ-spouse</td>\n",
       "      <td>Exec-managerial</td>\n",
       "      <td>Husband</td>\n",
       "      <td>White</td>\n",
       "      <td>Male</td>\n",
       "      <td>0</td>\n",
       "      <td>0</td>\n",
       "      <td>13</td>\n",
       "      <td>United-States</td>\n",
       "      <td>&lt;=50K</td>\n",
       "    </tr>\n",
       "    <tr>\n",
       "      <th>1</th>\n",
       "      <td>38</td>\n",
       "      <td>Private</td>\n",
       "      <td>215646</td>\n",
       "      <td>HS-grad</td>\n",
       "      <td>9</td>\n",
       "      <td>Divorced</td>\n",
       "      <td>Handlers-cleaners</td>\n",
       "      <td>Not-in-family</td>\n",
       "      <td>White</td>\n",
       "      <td>Male</td>\n",
       "      <td>0</td>\n",
       "      <td>0</td>\n",
       "      <td>40</td>\n",
       "      <td>United-States</td>\n",
       "      <td>&lt;=50K</td>\n",
       "    </tr>\n",
       "    <tr>\n",
       "      <th>2</th>\n",
       "      <td>53</td>\n",
       "      <td>Private</td>\n",
       "      <td>234721</td>\n",
       "      <td>11th</td>\n",
       "      <td>7</td>\n",
       "      <td>Married-civ-spouse</td>\n",
       "      <td>Handlers-cleaners</td>\n",
       "      <td>Husband</td>\n",
       "      <td>Black</td>\n",
       "      <td>Male</td>\n",
       "      <td>0</td>\n",
       "      <td>0</td>\n",
       "      <td>40</td>\n",
       "      <td>United-States</td>\n",
       "      <td>&lt;=50K</td>\n",
       "    </tr>\n",
       "    <tr>\n",
       "      <th>3</th>\n",
       "      <td>28</td>\n",
       "      <td>Private</td>\n",
       "      <td>338409</td>\n",
       "      <td>Bachelors</td>\n",
       "      <td>13</td>\n",
       "      <td>Married-civ-spouse</td>\n",
       "      <td>Prof-specialty</td>\n",
       "      <td>Wife</td>\n",
       "      <td>Black</td>\n",
       "      <td>Female</td>\n",
       "      <td>0</td>\n",
       "      <td>0</td>\n",
       "      <td>40</td>\n",
       "      <td>Cuba</td>\n",
       "      <td>&lt;=50K</td>\n",
       "    </tr>\n",
       "    <tr>\n",
       "      <th>4</th>\n",
       "      <td>37</td>\n",
       "      <td>Private</td>\n",
       "      <td>284582</td>\n",
       "      <td>Masters</td>\n",
       "      <td>14</td>\n",
       "      <td>Married-civ-spouse</td>\n",
       "      <td>Exec-managerial</td>\n",
       "      <td>Wife</td>\n",
       "      <td>White</td>\n",
       "      <td>Female</td>\n",
       "      <td>0</td>\n",
       "      <td>0</td>\n",
       "      <td>40</td>\n",
       "      <td>United-States</td>\n",
       "      <td>&lt;=50K</td>\n",
       "    </tr>\n",
       "  </tbody>\n",
       "</table>\n",
       "</div>"
      ],
      "text/plain": [
       "   age               work  fnlwgt   education  education-num  \\\n",
       "0   50   Self-emp-not-inc   83311   Bachelors             13   \n",
       "1   38            Private  215646     HS-grad              9   \n",
       "2   53            Private  234721        11th              7   \n",
       "3   28            Private  338409   Bachelors             13   \n",
       "4   37            Private  284582     Masters             14   \n",
       "\n",
       "        marital-status          occupation    relationship    race      sex  \\\n",
       "0   Married-civ-spouse     Exec-managerial         Husband   White     Male   \n",
       "1             Divorced   Handlers-cleaners   Not-in-family   White     Male   \n",
       "2   Married-civ-spouse   Handlers-cleaners         Husband   Black     Male   \n",
       "3   Married-civ-spouse      Prof-specialty            Wife   Black   Female   \n",
       "4   Married-civ-spouse     Exec-managerial            Wife   White   Female   \n",
       "\n",
       "   gain  loss  hpw         country  income  \n",
       "0     0     0   13   United-States   <=50K  \n",
       "1     0     0   40   United-States   <=50K  \n",
       "2     0     0   40   United-States   <=50K  \n",
       "3     0     0   40            Cuba   <=50K  \n",
       "4     0     0   40   United-States   <=50K  "
      ]
     },
     "execution_count": 50,
     "metadata": {},
     "output_type": "execute_result"
    }
   ],
   "source": [
    "df = pd.read_csv((\"NB1.csv\"), names=['age', 'work', 'fnlwgt', 'education', 'education-num', \n",
    "    'marital-status', 'occupation', 'relationship', 'race', 'sex', 'gain', 'loss', 'hpw', \n",
    "    'country', 'income'], header=0)\n",
    "df.head()"
   ]
  },
  {
   "cell_type": "markdown",
   "id": "be1abddf",
   "metadata": {},
   "source": [
    "### 3. Explore the data to gain insights about the data \n",
    "##### View dimension"
   ]
  },
  {
   "cell_type": "code",
   "execution_count": 51,
   "id": "91ad89cb",
   "metadata": {},
   "outputs": [
    {
     "data": {
      "text/plain": [
       "(32560, 15)"
      ]
     },
     "execution_count": 51,
     "metadata": {},
     "output_type": "execute_result"
    }
   ],
   "source": [
    "df.shape"
   ]
  },
  {
   "cell_type": "markdown",
   "id": "406130b3",
   "metadata": {},
   "source": [
    "##### rename column names"
   ]
  },
  {
   "cell_type": "code",
   "execution_count": 52,
   "id": "bd2618e0",
   "metadata": {},
   "outputs": [
    {
     "data": {
      "text/html": [
       "<div>\n",
       "<style scoped>\n",
       "    .dataframe tbody tr th:only-of-type {\n",
       "        vertical-align: middle;\n",
       "    }\n",
       "\n",
       "    .dataframe tbody tr th {\n",
       "        vertical-align: top;\n",
       "    }\n",
       "\n",
       "    .dataframe thead th {\n",
       "        text-align: right;\n",
       "    }\n",
       "</style>\n",
       "<table border=\"1\" class=\"dataframe\">\n",
       "  <thead>\n",
       "    <tr style=\"text-align: right;\">\n",
       "      <th></th>\n",
       "      <th>age</th>\n",
       "      <th>work</th>\n",
       "      <th>fnlwgt</th>\n",
       "      <th>education</th>\n",
       "      <th>education-num</th>\n",
       "      <th>marital-status</th>\n",
       "      <th>occupation</th>\n",
       "      <th>relationship</th>\n",
       "      <th>race</th>\n",
       "      <th>sex</th>\n",
       "      <th>gain</th>\n",
       "      <th>loss</th>\n",
       "      <th>hpw</th>\n",
       "      <th>country</th>\n",
       "      <th>income</th>\n",
       "    </tr>\n",
       "  </thead>\n",
       "  <tbody>\n",
       "    <tr>\n",
       "      <th>0</th>\n",
       "      <td>50</td>\n",
       "      <td>Self-emp-not-inc</td>\n",
       "      <td>83311</td>\n",
       "      <td>Bachelors</td>\n",
       "      <td>13</td>\n",
       "      <td>Married-civ-spouse</td>\n",
       "      <td>Exec-managerial</td>\n",
       "      <td>Husband</td>\n",
       "      <td>White</td>\n",
       "      <td>Male</td>\n",
       "      <td>0</td>\n",
       "      <td>0</td>\n",
       "      <td>13</td>\n",
       "      <td>United-States</td>\n",
       "      <td>&lt;=50K</td>\n",
       "    </tr>\n",
       "    <tr>\n",
       "      <th>1</th>\n",
       "      <td>38</td>\n",
       "      <td>Private</td>\n",
       "      <td>215646</td>\n",
       "      <td>HS-grad</td>\n",
       "      <td>9</td>\n",
       "      <td>Divorced</td>\n",
       "      <td>Handlers-cleaners</td>\n",
       "      <td>Not-in-family</td>\n",
       "      <td>White</td>\n",
       "      <td>Male</td>\n",
       "      <td>0</td>\n",
       "      <td>0</td>\n",
       "      <td>40</td>\n",
       "      <td>United-States</td>\n",
       "      <td>&lt;=50K</td>\n",
       "    </tr>\n",
       "    <tr>\n",
       "      <th>2</th>\n",
       "      <td>53</td>\n",
       "      <td>Private</td>\n",
       "      <td>234721</td>\n",
       "      <td>11th</td>\n",
       "      <td>7</td>\n",
       "      <td>Married-civ-spouse</td>\n",
       "      <td>Handlers-cleaners</td>\n",
       "      <td>Husband</td>\n",
       "      <td>Black</td>\n",
       "      <td>Male</td>\n",
       "      <td>0</td>\n",
       "      <td>0</td>\n",
       "      <td>40</td>\n",
       "      <td>United-States</td>\n",
       "      <td>&lt;=50K</td>\n",
       "    </tr>\n",
       "    <tr>\n",
       "      <th>3</th>\n",
       "      <td>28</td>\n",
       "      <td>Private</td>\n",
       "      <td>338409</td>\n",
       "      <td>Bachelors</td>\n",
       "      <td>13</td>\n",
       "      <td>Married-civ-spouse</td>\n",
       "      <td>Prof-specialty</td>\n",
       "      <td>Wife</td>\n",
       "      <td>Black</td>\n",
       "      <td>Female</td>\n",
       "      <td>0</td>\n",
       "      <td>0</td>\n",
       "      <td>40</td>\n",
       "      <td>Cuba</td>\n",
       "      <td>&lt;=50K</td>\n",
       "    </tr>\n",
       "    <tr>\n",
       "      <th>4</th>\n",
       "      <td>37</td>\n",
       "      <td>Private</td>\n",
       "      <td>284582</td>\n",
       "      <td>Masters</td>\n",
       "      <td>14</td>\n",
       "      <td>Married-civ-spouse</td>\n",
       "      <td>Exec-managerial</td>\n",
       "      <td>Wife</td>\n",
       "      <td>White</td>\n",
       "      <td>Female</td>\n",
       "      <td>0</td>\n",
       "      <td>0</td>\n",
       "      <td>40</td>\n",
       "      <td>United-States</td>\n",
       "      <td>&lt;=50K</td>\n",
       "    </tr>\n",
       "  </tbody>\n",
       "</table>\n",
       "</div>"
      ],
      "text/plain": [
       "   age               work  fnlwgt   education  education-num  \\\n",
       "0   50   Self-emp-not-inc   83311   Bachelors             13   \n",
       "1   38            Private  215646     HS-grad              9   \n",
       "2   53            Private  234721        11th              7   \n",
       "3   28            Private  338409   Bachelors             13   \n",
       "4   37            Private  284582     Masters             14   \n",
       "\n",
       "        marital-status          occupation    relationship    race      sex  \\\n",
       "0   Married-civ-spouse     Exec-managerial         Husband   White     Male   \n",
       "1             Divorced   Handlers-cleaners   Not-in-family   White     Male   \n",
       "2   Married-civ-spouse   Handlers-cleaners         Husband   Black     Male   \n",
       "3   Married-civ-spouse      Prof-specialty            Wife   Black   Female   \n",
       "4   Married-civ-spouse     Exec-managerial            Wife   White   Female   \n",
       "\n",
       "   gain  loss  hpw         country  income  \n",
       "0     0     0   13   United-States   <=50K  \n",
       "1     0     0   40   United-States   <=50K  \n",
       "2     0     0   40   United-States   <=50K  \n",
       "3     0     0   40            Cuba   <=50K  \n",
       "4     0     0   40   United-States   <=50K  "
      ]
     },
     "execution_count": 52,
     "metadata": {},
     "output_type": "execute_result"
    }
   ],
   "source": [
    "df.set_axis(['age', 'work', 'fnlwgt', 'education', 'education-num', 'marital-status', 'occupation', 'relationship', 'race', 'sex', 'gain', 'loss', 'hpw', 'country', 'income'], axis='columns')\n",
    "df.head()"
   ]
  },
  {
   "cell_type": "markdown",
   "id": "33c86be8",
   "metadata": {},
   "source": [
    "##### Explore categorical variables and view them"
   ]
  },
  {
   "cell_type": "code",
   "execution_count": 53,
   "id": "344f0c94",
   "metadata": {},
   "outputs": [
    {
     "data": {
      "text/plain": [
       "['education',\n",
       " 'relationship',\n",
       " 'country',\n",
       " 'marital-status',\n",
       " 'work',\n",
       " 'sex',\n",
       " 'occupation',\n",
       " 'race',\n",
       " 'income']"
      ]
     },
     "execution_count": 53,
     "metadata": {},
     "output_type": "execute_result"
    }
   ],
   "source": [
    "numCol = list(df._get_numeric_data().columns)\n",
    "catCol = list(set(df.columns) - set(numCol))\n",
    "catCol"
   ]
  },
  {
   "cell_type": "markdown",
   "id": "8b09b40b",
   "metadata": {},
   "source": [
    "##### check missing values in categorical variables"
   ]
  },
  {
   "cell_type": "code",
   "execution_count": 54,
   "id": "2d54d7d4",
   "metadata": {},
   "outputs": [
    {
     "name": "stdout",
     "output_type": "stream",
     "text": [
      "education = 0\n",
      "relationship = 0\n",
      "country = 583\n",
      "marital-status = 0\n",
      "work = 1836\n",
      "sex = 0\n",
      "occupation = 1843\n",
      "race = 0\n",
      "income = 0\n"
     ]
    }
   ],
   "source": [
    "df = df.applymap(lambda x: x.strip() if isinstance(x, str) else x)\n",
    "df = df.replace('?', np.nan)\n",
    "for col in catCol:\n",
    "    print(col, '=', df[col].isnull().sum())"
   ]
  },
  {
   "cell_type": "markdown",
   "id": "1f77cf35",
   "metadata": {},
   "source": [
    "##### view frequency counts of values in categorical variables\n",
    "##### view frequency distribution of categorical variables"
   ]
  },
  {
   "cell_type": "code",
   "execution_count": 55,
   "id": "1a846bb8",
   "metadata": {},
   "outputs": [
    {
     "name": "stdout",
     "output_type": "stream",
     "text": [
      "education \n",
      " HS-grad         10501\n",
      "Some-college     7291\n",
      "Bachelors        5354\n",
      "Masters          1723\n",
      "Assoc-voc        1382\n",
      "11th             1175\n",
      "Assoc-acdm       1067\n",
      "10th              933\n",
      "7th-8th           646\n",
      "Prof-school       576\n",
      "9th               514\n",
      "12th              433\n",
      "Doctorate         413\n",
      "5th-6th           333\n",
      "1st-4th           168\n",
      "Preschool          51\n",
      "Name: education, dtype: int64 \n",
      "\n",
      "relationship \n",
      " Husband           13193\n",
      "Not-in-family      8304\n",
      "Own-child          5068\n",
      "Unmarried          3446\n",
      "Wife               1568\n",
      "Other-relative      981\n",
      "Name: relationship, dtype: int64 \n",
      "\n",
      "country \n",
      " United-States                 29169\n",
      "Mexico                          643\n",
      "Philippines                     198\n",
      "Germany                         137\n",
      "Canada                          121\n",
      "Puerto-Rico                     114\n",
      "El-Salvador                     106\n",
      "India                           100\n",
      "Cuba                             95\n",
      "England                          90\n",
      "Jamaica                          81\n",
      "South                            80\n",
      "China                            75\n",
      "Italy                            73\n",
      "Dominican-Republic               70\n",
      "Vietnam                          67\n",
      "Guatemala                        64\n",
      "Japan                            62\n",
      "Poland                           60\n",
      "Columbia                         59\n",
      "Taiwan                           51\n",
      "Haiti                            44\n",
      "Iran                             43\n",
      "Portugal                         37\n",
      "Nicaragua                        34\n",
      "Peru                             31\n",
      "France                           29\n",
      "Greece                           29\n",
      "Ecuador                          28\n",
      "Ireland                          24\n",
      "Hong                             20\n",
      "Cambodia                         19\n",
      "Trinadad&Tobago                  19\n",
      "Laos                             18\n",
      "Thailand                         18\n",
      "Yugoslavia                       16\n",
      "Outlying-US(Guam-USVI-etc)       14\n",
      "Honduras                         13\n",
      "Hungary                          13\n",
      "Scotland                         12\n",
      "Holand-Netherlands                1\n",
      "Name: country, dtype: int64 \n",
      "\n",
      "marital-status \n",
      " Married-civ-spouse       14976\n",
      "Never-married            10682\n",
      "Divorced                  4443\n",
      "Separated                 1025\n",
      "Widowed                    993\n",
      "Married-spouse-absent      418\n",
      "Married-AF-spouse           23\n",
      "Name: marital-status, dtype: int64 \n",
      "\n",
      "work \n",
      " Private             22696\n",
      "Self-emp-not-inc     2541\n",
      "Local-gov            2093\n",
      "State-gov            1297\n",
      "Self-emp-inc         1116\n",
      "Federal-gov           960\n",
      "Without-pay            14\n",
      "Never-worked            7\n",
      "Name: work, dtype: int64 \n",
      "\n",
      "sex \n",
      " Male      21789\n",
      "Female    10771\n",
      "Name: sex, dtype: int64 \n",
      "\n",
      "occupation \n",
      " Prof-specialty       4140\n",
      "Craft-repair         4099\n",
      "Exec-managerial      4066\n",
      "Adm-clerical         3769\n",
      "Sales                3650\n",
      "Other-service        3295\n",
      "Machine-op-inspct    2002\n",
      "Transport-moving     1597\n",
      "Handlers-cleaners    1370\n",
      "Farming-fishing       994\n",
      "Tech-support          928\n",
      "Protective-serv       649\n",
      "Priv-house-serv       149\n",
      "Armed-Forces            9\n",
      "Name: occupation, dtype: int64 \n",
      "\n",
      "race \n",
      " White                 27815\n",
      "Black                  3124\n",
      "Asian-Pac-Islander     1039\n",
      "Amer-Indian-Eskimo      311\n",
      "Other                   271\n",
      "Name: race, dtype: int64 \n",
      "\n",
      "income \n",
      " <=50K    24719\n",
      ">50K      7841\n",
      "Name: income, dtype: int64 \n",
      "\n"
     ]
    }
   ],
   "source": [
    "for col in catCol:\n",
    "    print(col, '\\n', df[col].value_counts(), '\\n')"
   ]
  },
  {
   "cell_type": "markdown",
   "id": "a85fc26b",
   "metadata": {},
   "source": [
    "##### Explore workclass variable -  \n",
    "##### check labels in the workclass variable \n",
    "##### check the frequency distribution of values in the workclass variable \n",
    "##### replace '?' values in the workclass variable with `NaN`"
   ]
  },
  {
   "cell_type": "code",
   "execution_count": 56,
   "id": "06d091bc",
   "metadata": {},
   "outputs": [
    {
     "name": "stdout",
     "output_type": "stream",
     "text": [
      "Private             22696\n",
      "Self-emp-not-inc     2541\n",
      "Local-gov            2093\n",
      "State-gov            1297\n",
      "Self-emp-inc         1116\n",
      "Federal-gov           960\n",
      "Without-pay            14\n",
      "Never-worked            7\n",
      "Name: work, dtype: int64\n",
      "\n",
      "No. of null val. = 1836\n"
     ]
    }
   ],
   "source": [
    "print(df['work'].value_counts())\n",
    "print(\"\\nNo. of null val. =\",df['work'].isnull().sum())\n",
    "df['work'] = df['work'].replace('?', np.nan)"
   ]
  },
  {
   "cell_type": "markdown",
   "id": "2cbc26a0",
   "metadata": {},
   "source": [
    "##### Explore occupation variable \n",
    "##### check the frequency distribution of values in the occupation variable \n",
    "##### replace '?' values in occupation variable with `NaN`"
   ]
  },
  {
   "cell_type": "code",
   "execution_count": 57,
   "id": "e92b9cfc",
   "metadata": {},
   "outputs": [
    {
     "name": "stdout",
     "output_type": "stream",
     "text": [
      "Prof-specialty       4140\n",
      "Craft-repair         4099\n",
      "Exec-managerial      4066\n",
      "Adm-clerical         3769\n",
      "Sales                3650\n",
      "Other-service        3295\n",
      "Machine-op-inspct    2002\n",
      "Transport-moving     1597\n",
      "Handlers-cleaners    1370\n",
      "Farming-fishing       994\n",
      "Tech-support          928\n",
      "Protective-serv       649\n",
      "Priv-house-serv       149\n",
      "Armed-Forces            9\n",
      "Name: occupation, dtype: int64\n",
      "\n",
      "No. of null val. = 1843\n"
     ]
    }
   ],
   "source": [
    "print(df['occupation'].value_counts())\n",
    "print(\"\\nNo. of null val. =\",df['occupation'].isnull().sum())\n",
    "df['occupation'] = df['occupation'].replace('?', np.nan)"
   ]
  },
  {
   "cell_type": "markdown",
   "id": "c4b45628",
   "metadata": {},
   "source": [
    "##### Explore native_country variable \n",
    "##### check labels in the native_country variable \n",
    "##### check the frequency distribution of values in the native_country variable \n",
    "##### replace '?' values in the native_country variable with `NaN`"
   ]
  },
  {
   "cell_type": "code",
   "execution_count": 58,
   "id": "7b6240d7",
   "metadata": {},
   "outputs": [
    {
     "name": "stdout",
     "output_type": "stream",
     "text": [
      "United-States                 29169\n",
      "Mexico                          643\n",
      "Philippines                     198\n",
      "Germany                         137\n",
      "Canada                          121\n",
      "Puerto-Rico                     114\n",
      "El-Salvador                     106\n",
      "India                           100\n",
      "Cuba                             95\n",
      "England                          90\n",
      "Jamaica                          81\n",
      "South                            80\n",
      "China                            75\n",
      "Italy                            73\n",
      "Dominican-Republic               70\n",
      "Vietnam                          67\n",
      "Guatemala                        64\n",
      "Japan                            62\n",
      "Poland                           60\n",
      "Columbia                         59\n",
      "Taiwan                           51\n",
      "Haiti                            44\n",
      "Iran                             43\n",
      "Portugal                         37\n",
      "Nicaragua                        34\n",
      "Peru                             31\n",
      "France                           29\n",
      "Greece                           29\n",
      "Ecuador                          28\n",
      "Ireland                          24\n",
      "Hong                             20\n",
      "Cambodia                         19\n",
      "Trinadad&Tobago                  19\n",
      "Laos                             18\n",
      "Thailand                         18\n",
      "Yugoslavia                       16\n",
      "Outlying-US(Guam-USVI-etc)       14\n",
      "Honduras                         13\n",
      "Hungary                          13\n",
      "Scotland                         12\n",
      "Holand-Netherlands                1\n",
      "Name: country, dtype: int64\n",
      "\n",
      "No. of null val. = 583\n"
     ]
    }
   ],
   "source": [
    "print(df['country'].value_counts())\n",
    "print(\"\\nNo. of null val. =\",df['country'].isnull().sum())\n",
    "df['country'] = df['country'].replace('?', np.nan)"
   ]
  },
  {
   "cell_type": "markdown",
   "id": "caa58caf",
   "metadata": {},
   "source": [
    "##### Check missing values in categorical variables again"
   ]
  },
  {
   "cell_type": "code",
   "execution_count": 59,
   "id": "9e22e1bf",
   "metadata": {},
   "outputs": [
    {
     "data": {
      "text/plain": [
       "age                  0\n",
       "work              1836\n",
       "fnlwgt               0\n",
       "education            0\n",
       "education-num        0\n",
       "marital-status       0\n",
       "occupation        1843\n",
       "relationship         0\n",
       "race                 0\n",
       "sex                  0\n",
       "gain                 0\n",
       "loss                 0\n",
       "hpw                  0\n",
       "country            583\n",
       "income               0\n",
       "dtype: int64"
      ]
     },
     "execution_count": 59,
     "metadata": {},
     "output_type": "execute_result"
    }
   ],
   "source": [
    "df.isnull().sum()"
   ]
  },
  {
   "cell_type": "markdown",
   "id": "3fa9da45",
   "metadata": {},
   "source": [
    "##### Explore Numerical Variables \n",
    "##### view the numerical variables \n",
    "##### check missing values in numerical variables"
   ]
  },
  {
   "cell_type": "code",
   "execution_count": 60,
   "id": "2f7a85f2",
   "metadata": {},
   "outputs": [
    {
     "name": "stdout",
     "output_type": "stream",
     "text": [
      "age \n",
      " 36    898\n",
      "31    888\n",
      "34    886\n",
      "23    877\n",
      "35    876\n",
      "     ... \n",
      "83      6\n",
      "88      3\n",
      "85      3\n",
      "86      1\n",
      "87      1\n",
      "Name: age, Length: 73, dtype: int64 \n",
      "\n",
      "fnlwgt \n",
      " 164190    13\n",
      "203488    13\n",
      "123011    13\n",
      "148995    12\n",
      "126675    12\n",
      "          ..\n",
      "325573     1\n",
      "140176     1\n",
      "318264     1\n",
      "329205     1\n",
      "257302     1\n",
      "Name: fnlwgt, Length: 21647, dtype: int64 \n",
      "\n",
      "education-num \n",
      " 9     10501\n",
      "10     7291\n",
      "13     5354\n",
      "14     1723\n",
      "11     1382\n",
      "7      1175\n",
      "12     1067\n",
      "6       933\n",
      "4       646\n",
      "15      576\n",
      "5       514\n",
      "8       433\n",
      "16      413\n",
      "3       333\n",
      "2       168\n",
      "1        51\n",
      "Name: education-num, dtype: int64 \n",
      "\n",
      "gain \n",
      " 0        29849\n",
      "15024      347\n",
      "7688       284\n",
      "7298       246\n",
      "99999      159\n",
      "         ...  \n",
      "1111         1\n",
      "2538         1\n",
      "22040        1\n",
      "4931         1\n",
      "5060         1\n",
      "Name: gain, Length: 119, dtype: int64 \n",
      "\n",
      "loss \n",
      " 0       31041\n",
      "1902      202\n",
      "1977      168\n",
      "1887      159\n",
      "1848       51\n",
      "        ...  \n",
      "2080        1\n",
      "1539        1\n",
      "1844        1\n",
      "2489        1\n",
      "1411        1\n",
      "Name: loss, Length: 92, dtype: int64 \n",
      "\n",
      "hpw \n",
      " 40    15216\n",
      "50     2819\n",
      "45     1824\n",
      "60     1475\n",
      "35     1297\n",
      "      ...  \n",
      "82        1\n",
      "94        1\n",
      "92        1\n",
      "74        1\n",
      "87        1\n",
      "Name: hpw, Length: 94, dtype: int64 \n",
      "\n"
     ]
    }
   ],
   "source": [
    "for col in numCol:\n",
    "    print(col, '\\n', df[col].value_counts(), '\\n')"
   ]
  },
  {
   "cell_type": "code",
   "execution_count": 61,
   "id": "e50a8f74",
   "metadata": {},
   "outputs": [
    {
     "name": "stdout",
     "output_type": "stream",
     "text": [
      "age = 0\n",
      "fnlwgt = 0\n",
      "education-num = 0\n",
      "gain = 0\n",
      "loss = 0\n",
      "hpw = 0\n"
     ]
    }
   ],
   "source": [
    "for col in numCol:\n",
    "    print(col, '=', df[col].isnull().sum())"
   ]
  },
  {
   "cell_type": "markdown",
   "id": "c99e4dd2",
   "metadata": {},
   "source": [
    "### 4. Declare feature vector and target variable "
   ]
  },
  {
   "cell_type": "code",
   "execution_count": 62,
   "id": "c864b741",
   "metadata": {},
   "outputs": [
    {
     "name": "stdout",
     "output_type": "stream",
     "text": [
      "       age              work  fnlwgt   education  education-num  \\\n",
      "0       50  Self-emp-not-inc   83311   Bachelors             13   \n",
      "1       38           Private  215646     HS-grad              9   \n",
      "2       53           Private  234721        11th              7   \n",
      "3       28           Private  338409   Bachelors             13   \n",
      "4       37           Private  284582     Masters             14   \n",
      "...    ...               ...     ...         ...            ...   \n",
      "32555   27           Private  257302  Assoc-acdm             12   \n",
      "32556   40           Private  154374     HS-grad              9   \n",
      "32557   58           Private  151910     HS-grad              9   \n",
      "32558   22           Private  201490     HS-grad              9   \n",
      "32559   52      Self-emp-inc  287927     HS-grad              9   \n",
      "\n",
      "           marital-status         occupation   relationship   race     sex  \\\n",
      "0      Married-civ-spouse    Exec-managerial        Husband  White    Male   \n",
      "1                Divorced  Handlers-cleaners  Not-in-family  White    Male   \n",
      "2      Married-civ-spouse  Handlers-cleaners        Husband  Black    Male   \n",
      "3      Married-civ-spouse     Prof-specialty           Wife  Black  Female   \n",
      "4      Married-civ-spouse    Exec-managerial           Wife  White  Female   \n",
      "...                   ...                ...            ...    ...     ...   \n",
      "32555  Married-civ-spouse       Tech-support           Wife  White  Female   \n",
      "32556  Married-civ-spouse  Machine-op-inspct        Husband  White    Male   \n",
      "32557             Widowed       Adm-clerical      Unmarried  White  Female   \n",
      "32558       Never-married       Adm-clerical      Own-child  White    Male   \n",
      "32559  Married-civ-spouse    Exec-managerial           Wife  White  Female   \n",
      "\n",
      "        gain  loss  hpw        country  \n",
      "0          0     0   13  United-States  \n",
      "1          0     0   40  United-States  \n",
      "2          0     0   40  United-States  \n",
      "3          0     0   40           Cuba  \n",
      "4          0     0   40  United-States  \n",
      "...      ...   ...  ...            ...  \n",
      "32555      0     0   38  United-States  \n",
      "32556      0     0   40  United-States  \n",
      "32557      0     0   40  United-States  \n",
      "32558      0     0   20  United-States  \n",
      "32559  15024     0   40  United-States  \n",
      "\n",
      "[32560 rows x 14 columns]\n",
      "0        <=50K\n",
      "1        <=50K\n",
      "2        <=50K\n",
      "3        <=50K\n",
      "4        <=50K\n",
      "         ...  \n",
      "32555    <=50K\n",
      "32556     >50K\n",
      "32557    <=50K\n",
      "32558    <=50K\n",
      "32559     >50K\n",
      "Name: income, Length: 32560, dtype: object\n"
     ]
    }
   ],
   "source": [
    "x = df.drop('income', axis=1)\n",
    "y = df['income']\n",
    "print(x)\n",
    "print(y)"
   ]
  },
  {
   "cell_type": "markdown",
   "id": "4fa11d1c",
   "metadata": {},
   "source": [
    "### 5. Split data into separate training and test set"
   ]
  },
  {
   "cell_type": "code",
   "execution_count": 63,
   "id": "b238ae58",
   "metadata": {},
   "outputs": [],
   "source": [
    "x_train, x_test, y_train, y_test = train_test_split(x, y, test_size=0.3, random_state=42)"
   ]
  },
  {
   "cell_type": "markdown",
   "id": "3be623b4",
   "metadata": {},
   "source": [
    "### 6. print the percentage of missing values in the categorical variables in the training set"
   ]
  },
  {
   "cell_type": "code",
   "execution_count": 64,
   "id": "1c8c885e",
   "metadata": {},
   "outputs": [
    {
     "name": "stdout",
     "output_type": "stream",
     "text": [
      "education = 0.0\n",
      "relationship = 0.0\n",
      "country = 1.763629057463053\n",
      "marital-status = 0.0\n",
      "work = 6.093189964157706\n",
      "sex = 0.0\n",
      "occupation = 6.122829072961773\n",
      "race = 0.0\n"
     ]
    }
   ],
   "source": [
    "for col in catCol:\n",
    "    if (col != 'income'):\n",
    "        print(col, '=', x_train[col].isnull().sum() * 100 / x_train[col].count())"
   ]
  },
  {
   "cell_type": "markdown",
   "id": "194d4470",
   "metadata": {},
   "source": [
    "### 7. print categorical variables with missing data"
   ]
  },
  {
   "cell_type": "code",
   "execution_count": 65,
   "id": "38402038",
   "metadata": {},
   "outputs": [
    {
     "name": "stdout",
     "output_type": "stream",
     "text": [
      "country = 583\n",
      "work = 1836\n",
      "occupation = 1843\n"
     ]
    }
   ],
   "source": [
    "for col in catCol:\n",
    "    if (col != 'income' and x[col].isnull().sum() != 0):\n",
    "        print(col, '=', x[col].isnull().sum())"
   ]
  },
  {
   "cell_type": "markdown",
   "id": "9ab1a3f5",
   "metadata": {},
   "source": [
    "### 8. impute missing categorical variables with the most frequent value"
   ]
  },
  {
   "cell_type": "code",
   "execution_count": 66,
   "id": "806a42de",
   "metadata": {},
   "outputs": [],
   "source": [
    "x_train = x_train.apply(lambda x: x.fillna(x.value_counts().index[0]))\n",
    "x_test = x_test.apply(lambda x: x.fillna(x.value_counts().index[0]))"
   ]
  },
  {
   "cell_type": "markdown",
   "id": "6ffbbb4a",
   "metadata": {},
   "source": [
    "### 9. Encode categorical variables"
   ]
  },
  {
   "cell_type": "code",
   "execution_count": 67,
   "id": "a759b20c",
   "metadata": {},
   "outputs": [],
   "source": [
    "le = LabelEncoder()\n",
    "for col in catCol:\n",
    "    if (col != \"income\"):\n",
    "        x_train[col] = le.fit_transform(x_train[col])\n",
    "        x_test[col] = le.transform(x_test[col])\n",
    "y_train = le.fit_transform(y_train)\n",
    "y_test = le.fit_transform(y_test)"
   ]
  },
  {
   "cell_type": "markdown",
   "id": "a8a31f8d",
   "metadata": {},
   "source": [
    "### 10. Feature Scaling"
   ]
  },
  {
   "cell_type": "code",
   "execution_count": 68,
   "id": "575f5260",
   "metadata": {},
   "outputs": [],
   "source": [
    "scaler = MinMaxScaler()\n",
    "x_train[numCol] = scaler.fit_transform(x_train[numCol])\n",
    "x_test[numCol] = scaler.transform(x_test[numCol])"
   ]
  },
  {
   "cell_type": "markdown",
   "id": "ebd356b5",
   "metadata": {},
   "source": [
    "### 11. Model training"
   ]
  },
  {
   "cell_type": "code",
   "execution_count": 69,
   "id": "de01e1ca",
   "metadata": {},
   "outputs": [
    {
     "data": {
      "text/plain": [
       "GaussianNB()"
      ]
     },
     "execution_count": 69,
     "metadata": {},
     "output_type": "execute_result"
    }
   ],
   "source": [
    "gnb = GaussianNB()\n",
    "gnb.fit(x_train, y_train)"
   ]
  },
  {
   "cell_type": "markdown",
   "id": "3eb2f3e6",
   "metadata": {},
   "source": [
    "### 12. Predict the results"
   ]
  },
  {
   "cell_type": "code",
   "execution_count": 70,
   "id": "d74a4f1e",
   "metadata": {},
   "outputs": [
    {
     "name": "stdout",
     "output_type": "stream",
     "text": [
      "[0 0 0 ... 0 0 0]\n"
     ]
    }
   ],
   "source": [
    "y_pred_train = gnb.predict(x_train)\n",
    "y_pred_test = gnb.predict(x_test)\n",
    "print(y_pred_test)"
   ]
  },
  {
   "cell_type": "markdown",
   "id": "0bc7380b",
   "metadata": {},
   "source": [
    "### 13. Check the accuracy score"
   ]
  },
  {
   "cell_type": "code",
   "execution_count": 71,
   "id": "04a19b6b",
   "metadata": {},
   "outputs": [
    {
     "name": "stdout",
     "output_type": "stream",
     "text": [
      "0.8100941850941851\n"
     ]
    }
   ],
   "source": [
    "acc_test = accuracy_score(y_test, y_pred_test)\n",
    "print(acc_test)"
   ]
  },
  {
   "cell_type": "markdown",
   "id": "925cdd2f",
   "metadata": {},
   "source": [
    "### 14. Compare the train-set and test-set accuracy"
   ]
  },
  {
   "cell_type": "code",
   "execution_count": 72,
   "id": "b47434cd",
   "metadata": {},
   "outputs": [
    {
     "name": "stdout",
     "output_type": "stream",
     "text": [
      "Train Accuracy = 0.808968058968059\n",
      "Test Accuracy = 0.8100941850941851\n"
     ]
    }
   ],
   "source": [
    "acc_train = accuracy_score(y_train, y_pred_train)\n",
    "print(\"Train Accuracy =\", acc_train)\n",
    "print(\"Test Accuracy =\", acc_test)"
   ]
  },
  {
   "cell_type": "markdown",
   "id": "ff5ad588",
   "metadata": {},
   "source": [
    "### 15. Visualize confusion matrix with seaborn heatmap"
   ]
  },
  {
   "cell_type": "code",
   "execution_count": 73,
   "id": "12dac36a",
   "metadata": {},
   "outputs": [
    {
     "data": {
      "text/plain": [
       "<AxesSubplot:>"
      ]
     },
     "execution_count": 73,
     "metadata": {},
     "output_type": "execute_result"
    },
    {
     "data": {
      "image/png": "[encoded data removed]",
      "text/plain": [
       "<Figure size 640x480 with 2 Axes>"
      ]
     },
     "metadata": {},
     "output_type": "display_data"
    }
   ],
   "source": [
    "sns.heatmap(confusion_matrix(y_test, y_pred_test), annot=True)"
   ]
  },
  {
   "cell_type": "markdown",
   "id": "3dbecadc",
   "metadata": {},
   "source": [
    "### 16. Generate Classification Report"
   ]
  },
  {
   "cell_type": "code",
   "execution_count": 74,
   "id": "6340e743",
   "metadata": {},
   "outputs": [
    {
     "name": "stdout",
     "output_type": "stream",
     "text": [
      "              precision    recall  f1-score   support\n",
      "\n",
      "           0       0.82      0.95      0.88      7395\n",
      "           1       0.71      0.36      0.48      2373\n",
      "\n",
      "    accuracy                           0.81      9768\n",
      "   macro avg       0.77      0.66      0.68      9768\n",
      "weighted avg       0.80      0.81      0.79      9768\n",
      "\n"
     ]
    }
   ],
   "source": [
    "print(classification_report(y_test, y_pred_test))"
   ]
  },
  {
   "cell_type": "markdown",
   "id": "c6aca600",
   "metadata": {},
   "source": [
    "### 17. Evaluate Classification accuracy"
   ]
  },
  {
   "cell_type": "code",
   "execution_count": 75,
   "id": "5b31817e",
   "metadata": {},
   "outputs": [
    {
     "name": "stdout",
     "output_type": "stream",
     "text": [
      "Classification accuracy = 0.8100941850941851\n"
     ]
    }
   ],
   "source": [
    "print(\"Classification accuracy =\", acc_test)"
   ]
  },
  {
   "cell_type": "markdown",
   "id": "db7b774e",
   "metadata": {},
   "source": [
    "### 18. Evaluate Classification error"
   ]
  },
  {
   "cell_type": "code",
   "execution_count": 76,
   "id": "4bc19283",
   "metadata": {},
   "outputs": [
    {
     "name": "stdout",
     "output_type": "stream",
     "text": [
      "Classification error = 0.18990581490581493\n"
     ]
    }
   ],
   "source": [
    "print(\"Classification error =\", 1 - acc_test)"
   ]
  },
  {
   "cell_type": "markdown",
   "id": "e4b5470f",
   "metadata": {},
   "source": [
    "### 19. Calculate class probabilities and store the probabilities in data frame with appropriate heading"
   ]
  },
  {
   "cell_type": "code",
   "execution_count": 77,
   "id": "50da49a5",
   "metadata": {},
   "outputs": [
    {
     "name": "stdout",
     "output_type": "stream",
     "text": [
      "             0             1\n",
      "0     0.999969  3.064963e-05\n",
      "1     0.996756  3.244373e-03\n",
      "2     0.945688  5.431223e-02\n",
      "3     0.931446  6.855402e-02\n",
      "4     0.999994  6.308066e-06\n",
      "...        ...           ...\n",
      "9763  1.000000  9.047500e-08\n",
      "9764  0.994858  5.141547e-03\n",
      "9765  0.928891  7.110854e-02\n",
      "9766  0.999591  4.091542e-04\n",
      "9767  0.999998  2.043893e-06\n",
      "\n",
      "[9768 rows x 2 columns]\n"
     ]
    }
   ],
   "source": [
    "class_prob = gnb.predict_proba(x_test)\n",
    "class_prob_df = pd.DataFrame(class_prob, columns=gnb.classes_)\n",
    "print(class_prob_df)"
   ]
  },
  {
   "cell_type": "markdown",
   "id": "374dc76c",
   "metadata": {},
   "source": [
    "### 20. Plot histogram of predicted probabilities"
   ]
  },
  {
   "cell_type": "code",
   "execution_count": 78,
   "id": "e9042930",
   "metadata": {},
   "outputs": [
    {
     "data": {
      "image/png": "[encoded data removed]",
      "text/plain": [
       "<Figure size 1500x500 with 2 Axes>"
      ]
     },
     "metadata": {},
     "output_type": "display_data"
    }
   ],
   "source": [
    "class_prob_df.hist(figsize=(15,5))\n",
    "plt.show()"
   ]
  },
  {
   "cell_type": "markdown",
   "id": "d9690a9d",
   "metadata": {},
   "source": [
    "### 21. Plot ROC Curve"
   ]
  },
  {
   "cell_type": "code",
   "execution_count": 79,
   "id": "4d73caf8",
   "metadata": {},
   "outputs": [
    {
     "name": "stderr",
     "output_type": "stream",
     "text": [
      "C:\\ProgramData\\Anaconda3\\lib\\site-packages\\sklearn\\utils\\deprecation.py:87: FutureWarning: Function plot_roc_curve is deprecated; Function :func:`plot_roc_curve` is deprecated in 1.0 and will be removed in 1.2. Use one of the class methods: :meth:`sklearn.metric.RocCurveDisplay.from_predictions` or :meth:`sklearn.metric.RocCurveDisplay.from_estimator`.\n",
      "  warnings.warn(msg, category=FutureWarning)\n"
     ]
    },
    {
     "data": {
      "text/plain": [
       "<sklearn.metrics._plot.roc_curve.RocCurveDisplay at 0x25bfa11a6d0>"
      ]
     },
     "execution_count": 79,
     "metadata": {},
     "output_type": "execute_result"
    },
    {
     "data": {
      "image/png": "[encoded data removed]",
      "text/plain": [
       "<Figure size 640x480 with 1 Axes>"
      ]
     },
     "metadata": {},
     "output_type": "display_data"
    }
   ],
   "source": [
    "plot_roc_curve(gnb, x_test, y_test)"
   ]
  },
  {
   "cell_type": "markdown",
   "id": "bc72f997",
   "metadata": {},
   "source": [
    "### 22. Compute ROC AUC"
   ]
  },
  {
   "cell_type": "code",
   "execution_count": 80,
   "id": "0669b1f0",
   "metadata": {},
   "outputs": [
    {
     "data": {
      "text/plain": [
       "0.855699842748614"
      ]
     },
     "execution_count": 80,
     "metadata": {},
     "output_type": "execute_result"
    }
   ],
   "source": [
    "roc_auc_score(y_test, class_prob[:, 1])"
   ]
  },
  {
   "cell_type": "markdown",
   "id": "0a8789b6",
   "metadata": {},
   "source": [
    "### 23. Calculate cross-validated ROC AUC"
   ]
  },
  {
   "cell_type": "code",
   "execution_count": 81,
   "id": "83f76aaa",
   "metadata": {},
   "outputs": [],
   "source": [
    "x_test_df = pd.DataFrame(x_test)\n",
    "x_train_df = pd.DataFrame(x_train)\n",
    "y_test_df = pd.Series(y_test)\n",
    "y_train_df = pd.Series(y_train)\n",
    "\n",
    "x = pd.concat([x_test_df, x_train_df])\n",
    "y = pd.concat([y_test_df, y_train_df])"
   ]
  },
  {
   "cell_type": "code",
   "execution_count": 82,
   "id": "e0d6ad8d",
   "metadata": {},
   "outputs": [
    {
     "name": "stdout",
     "output_type": "stream",
     "text": [
      "[0.85762667 0.86380467 0.85530933 0.85283762 0.85770696]\n"
     ]
    }
   ],
   "source": [
    "cross_val_scores = cross_val_score(gnb, x_train, y_train, cv=5, scoring='roc_auc')\n",
    "print(cross_val_scores)"
   ]
  },
  {
   "cell_type": "markdown",
   "id": "6a44c2c4",
   "metadata": {},
   "source": [
    "### 24. Applying 10-Fold Cross Validation"
   ]
  },
  {
   "cell_type": "code",
   "execution_count": 83,
   "id": "08d53c81",
   "metadata": {},
   "outputs": [
    {
     "name": "stdout",
     "output_type": "stream",
     "text": [
      "[0.85259447 0.84624633 0.86445073 0.85910462 0.85054189 0.85375672\n",
      " 0.85863276 0.85742691 0.8626484  0.85395376]\n"
     ]
    }
   ],
   "source": [
    "cv = StratifiedKFold(n_splits=10, shuffle=True, random_state=42)\n",
    "\n",
    "cross_val_scores = cross_val_score(gnb, x, y, cv=cv, scoring='roc_auc')\n",
    "print(cross_val_scores)"
   ]
  },
  {
   "cell_type": "markdown",
   "id": "0a0f3602",
   "metadata": {},
   "source": [
    "### 25. Compute the Average cross-validation score"
   ]
  },
  {
   "cell_type": "code",
   "execution_count": 84,
   "id": "91b2fc18",
   "metadata": {},
   "outputs": [
    {
     "data": {
      "text/plain": [
       "0.8559356569085992"
      ]
     },
     "execution_count": 84,
     "metadata": {},
     "output_type": "execute_result"
    }
   ],
   "source": [
    "cross_val_scores.mean()"
   ]
  },
  {
   "cell_type": "code",
   "execution_count": null,
   "id": "b280abad",
   "metadata": {},
   "outputs": [],
   "source": []
  }
 ],
 "metadata": {
  "kernelspec": {
   "display_name": "Python 3 (ipykernel)",
   "language": "python",
   "name": "python3"
  },
  "language_info": {
   "codemirror_mode": {
    "name": "ipython",
    "version": 3
   },
   "file_extension": ".py",
   "mimetype": "text/x-python",
   "name": "python",
   "nbconvert_exporter": "python",
   "pygments_lexer": "ipython3",
   "version": "3.9.13"
  }
 },
 "nbformat": 4,
 "nbformat_minor": 5
}
