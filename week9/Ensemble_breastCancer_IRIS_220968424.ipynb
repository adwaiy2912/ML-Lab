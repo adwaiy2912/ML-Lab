{
 "cells": [
  {
   "cell_type": "markdown",
   "id": "b49605de",
   "metadata": {},
   "source": [
    "## Name : Adwaiy Singh\n",
    "## Reg. No. : 220968424\n",
    "## Sec. : A\n",
    "## Batch: 2\n",
    "\n",
    "# Week 9\n",
    "## Ensemble"
   ]
  },
  {
   "cell_type": "code",
   "execution_count": 70,
   "id": "45b47390",
   "metadata": {},
   "outputs": [],
   "source": [
    "import numpy as np\n",
    "from sklearn import datasets\n",
    "\n",
    "from sklearn.model_selection import train_test_split\n",
    "from sklearn.metrics import accuracy_score\n",
    "\n",
    "from sklearn.ensemble import VotingClassifier\n",
    "from sklearn.linear_model import LogisticRegression\n",
    "from sklearn.svm import SVC\n",
    "from sklearn.tree import DecisionTreeClassifier"
   ]
  },
  {
   "cell_type": "markdown",
   "id": "a63a0aa9",
   "metadata": {},
   "source": [
    "# IRIS dataset"
   ]
  },
  {
   "cell_type": "code",
   "execution_count": 71,
   "id": "74d96ccf",
   "metadata": {},
   "outputs": [],
   "source": [
    "iris = datasets.load_iris()\n",
    "x = iris.data\n",
    "y = iris.target"
   ]
  },
  {
   "cell_type": "code",
   "execution_count": 72,
   "id": "95a40a23",
   "metadata": {},
   "outputs": [],
   "source": [
    "x_train, x_test, y_train, y_test = train_test_split(x, y, test_size=0.2, random_state=42)"
   ]
  },
  {
   "cell_type": "code",
   "execution_count": 73,
   "id": "36cdaecd",
   "metadata": {},
   "outputs": [
    {
     "name": "stderr",
     "output_type": "stream",
     "text": [
      "C:\\ProgramData\\Anaconda3\\lib\\site-packages\\sklearn\\linear_model\\_logistic.py:814: ConvergenceWarning: lbfgs failed to converge (status=1):\n",
      "STOP: TOTAL NO. of ITERATIONS REACHED LIMIT.\n",
      "\n",
      "Increase the number of iterations (max_iter) or scale the data as shown in:\n",
      "    https://scikit-learn.org/stable/modules/preprocessing.html\n",
      "Please also refer to the documentation for alternative solver options:\n",
      "    https://scikit-learn.org/stable/modules/linear_model.html#logistic-regression\n",
      "  n_iter_i = _check_optimize_result(\n"
     ]
    },
    {
     "data": {
      "text/plain": [
       "DecisionTreeClassifier()"
      ]
     },
     "execution_count": 73,
     "metadata": {},
     "output_type": "execute_result"
    }
   ],
   "source": [
    "lr = LogisticRegression()\n",
    "svc = SVC(kernel='rbf', probability=True)\n",
    "dt = DecisionTreeClassifier()\n",
    "\n",
    "lr.fit(x_train, y_train)\n",
    "svc.fit(x_train, y_train)\n",
    "dt.fit(x_train, y_train)"
   ]
  },
  {
   "cell_type": "code",
   "execution_count": 74,
   "id": "8e1a9938",
   "metadata": {},
   "outputs": [
    {
     "name": "stdout",
     "output_type": "stream",
     "text": [
      "Dec tree accuracy: 1.0\n",
      "SVM accuracy: 1.0\n",
      "Logistic reg accuracy: 1.0\n"
     ]
    }
   ],
   "source": [
    "print(\"Dec tree accuracy:\", accuracy_score(y_test, dt.predict(x_test)))\n",
    "print(\"SVM accuracy:\", accuracy_score(y_test, svc.predict(x_test)))\n",
    "print(\"Logistic reg accuracy:\", accuracy_score(y_test, lr.predict(x_test)))"
   ]
  },
  {
   "cell_type": "code",
   "execution_count": 75,
   "id": "2b05c711",
   "metadata": {},
   "outputs": [
    {
     "name": "stdout",
     "output_type": "stream",
     "text": [
      "Voting Ensemble score: 1.0\n"
     ]
    },
    {
     "name": "stderr",
     "output_type": "stream",
     "text": [
      "C:\\ProgramData\\Anaconda3\\lib\\site-packages\\sklearn\\linear_model\\_logistic.py:814: ConvergenceWarning: lbfgs failed to converge (status=1):\n",
      "STOP: TOTAL NO. of ITERATIONS REACHED LIMIT.\n",
      "\n",
      "Increase the number of iterations (max_iter) or scale the data as shown in:\n",
      "    https://scikit-learn.org/stable/modules/preprocessing.html\n",
      "Please also refer to the documentation for alternative solver options:\n",
      "    https://scikit-learn.org/stable/modules/linear_model.html#logistic-regression\n",
      "  n_iter_i = _check_optimize_result(\n"
     ]
    }
   ],
   "source": [
    "voting = VotingClassifier(estimators=[('dt', dt), ('svc', svc), ('lr', lr)], voting='soft')\n",
    "voting.fit(x_train, y_train)\n",
    "print(\"Voting Ensemble score:\", accuracy_score(y_test, voting.predict(x_test)))"
   ]
  },
  {
   "cell_type": "code",
   "execution_count": 76,
   "id": "429890dd",
   "metadata": {},
   "outputs": [],
   "source": [
    "lr_pred = lr.predict_proba(x_test)\n",
    "svc_pred = svc.predict_proba(x_test)\n",
    "dt_pred = dt.predict_proba(x_test)"
   ]
  },
  {
   "cell_type": "code",
   "execution_count": 77,
   "id": "6676b9ff",
   "metadata": {},
   "outputs": [
    {
     "name": "stdout",
     "output_type": "stream",
     "text": [
      "Average Ensemble Score: 1.0\n"
     ]
    }
   ],
   "source": [
    "avg_pred = (lr_pred + svc_pred + dt_pred) / 3\n",
    "avg_ensemble_pred = np.argmax(avg_pred, axis=1)\n",
    "avg_ensemble_score = accuracy_score(y_test, avg_ensemble_pred)\n",
    "print(\"Average Ensemble Score:\", avg_ensemble_score)"
   ]
  },
  {
   "cell_type": "code",
   "execution_count": 78,
   "id": "2d82b3f0",
   "metadata": {},
   "outputs": [
    {
     "name": "stdout",
     "output_type": "stream",
     "text": [
      "Weighted average Ensemble Score: 1.0\n"
     ]
    }
   ],
   "source": [
    "weights = [0.3, 0.5, 0.2] \n",
    "weighted_avg_pred = (weights[0]*lr_pred + weights[1]*svc_pred + weights[2]*dt_pred)\n",
    "weighted_avg_ensemble_pred = np.argmax(weighted_avg_pred, axis=1)\n",
    "weighted_avg_ensemble_score = accuracy_score(y_test, weighted_avg_ensemble_pred)\n",
    "print(\"Weighted average Ensemble Score:\", weighted_avg_ensemble_score)"
   ]
  },
  {
   "cell_type": "markdown",
   "id": "5bdab12f",
   "metadata": {},
   "source": [
    "# Breast Cancer dataset"
   ]
  },
  {
   "cell_type": "code",
   "execution_count": 79,
   "id": "3b7c1e03",
   "metadata": {},
   "outputs": [],
   "source": [
    "cancer = datasets.load_breast_cancer()\n",
    "x2 = cancer.data\n",
    "y2 = cancer.target"
   ]
  },
  {
   "cell_type": "code",
   "execution_count": 80,
   "id": "5655a013",
   "metadata": {},
   "outputs": [],
   "source": [
    "x2_train, x2_test, y2_train, y2_test = train_test_split(x2, y2, test_size=0.2, random_state=42)"
   ]
  },
  {
   "cell_type": "code",
   "execution_count": 81,
   "id": "2bf36684",
   "metadata": {},
   "outputs": [
    {
     "name": "stderr",
     "output_type": "stream",
     "text": [
      "C:\\ProgramData\\Anaconda3\\lib\\site-packages\\sklearn\\linear_model\\_logistic.py:814: ConvergenceWarning: lbfgs failed to converge (status=1):\n",
      "STOP: TOTAL NO. of ITERATIONS REACHED LIMIT.\n",
      "\n",
      "Increase the number of iterations (max_iter) or scale the data as shown in:\n",
      "    https://scikit-learn.org/stable/modules/preprocessing.html\n",
      "Please also refer to the documentation for alternative solver options:\n",
      "    https://scikit-learn.org/stable/modules/linear_model.html#logistic-regression\n",
      "  n_iter_i = _check_optimize_result(\n"
     ]
    },
    {
     "data": {
      "text/plain": [
       "DecisionTreeClassifier()"
      ]
     },
     "execution_count": 81,
     "metadata": {},
     "output_type": "execute_result"
    }
   ],
   "source": [
    "lr2 = LogisticRegression()\n",
    "svc2 = SVC(kernel='rbf', probability=True)\n",
    "dt2 = DecisionTreeClassifier()\n",
    "\n",
    "lr2.fit(x2_train, y2_train)\n",
    "svc2.fit(x2_train, y2_train)\n",
    "dt2.fit(x2_train, y2_train)"
   ]
  },
  {
   "cell_type": "code",
   "execution_count": 82,
   "id": "86a7546c",
   "metadata": {},
   "outputs": [
    {
     "name": "stdout",
     "output_type": "stream",
     "text": [
      "Dec tree accuracy: 0.9385964912280702\n",
      "SVM accuracy: 0.9473684210526315\n",
      "Logistic reg accuracy: 0.956140350877193\n"
     ]
    }
   ],
   "source": [
    "print(\"Dec tree accuracy:\", accuracy_score(y2_test, dt2.predict(x2_test)))\n",
    "print(\"SVM accuracy:\", accuracy_score(y2_test, svc2.predict(x2_test)))\n",
    "print(\"Logistic reg accuracy:\", accuracy_score(y2_test, lr2.predict(x2_test)))"
   ]
  },
  {
   "cell_type": "code",
   "execution_count": 83,
   "id": "dad54790",
   "metadata": {},
   "outputs": [
    {
     "name": "stderr",
     "output_type": "stream",
     "text": [
      "C:\\ProgramData\\Anaconda3\\lib\\site-packages\\sklearn\\linear_model\\_logistic.py:814: ConvergenceWarning: lbfgs failed to converge (status=1):\n",
      "STOP: TOTAL NO. of ITERATIONS REACHED LIMIT.\n",
      "\n",
      "Increase the number of iterations (max_iter) or scale the data as shown in:\n",
      "    https://scikit-learn.org/stable/modules/preprocessing.html\n",
      "Please also refer to the documentation for alternative solver options:\n",
      "    https://scikit-learn.org/stable/modules/linear_model.html#logistic-regression\n",
      "  n_iter_i = _check_optimize_result(\n"
     ]
    },
    {
     "name": "stdout",
     "output_type": "stream",
     "text": [
      "Voting Ensemble score: 0.9736842105263158\n"
     ]
    }
   ],
   "source": [
    "voting2 = VotingClassifier(estimators=[('dt', dt2), ('svc', svc2), ('lr', lr2)], voting='soft')\n",
    "voting2.fit(x2_train, y2_train)\n",
    "print(\"Voting Ensemble score:\", accuracy_score(y2_test, voting2.predict(x2_test)))"
   ]
  },
  {
   "cell_type": "code",
   "execution_count": 84,
   "id": "ce8f80d7",
   "metadata": {},
   "outputs": [],
   "source": [
    "lr2_pred = lr2.predict_proba(x2_test)\n",
    "svc2_pred = svc2.predict_proba(x2_test)\n",
    "dt2_pred = dt2.predict_proba(x2_test)"
   ]
  },
  {
   "cell_type": "code",
   "execution_count": 85,
   "id": "ac54f274",
   "metadata": {},
   "outputs": [
    {
     "name": "stdout",
     "output_type": "stream",
     "text": [
      "Average Ensemble Score: 0.9736842105263158\n"
     ]
    }
   ],
   "source": [
    "avg2_pred = (lr2_pred + svc2_pred + dt2_pred) / 3\n",
    "avg2_ensemble_pred = np.argmax(avg2_pred, axis=1)\n",
    "avg2_ensemble_score = accuracy_score(y2_test, avg2_ensemble_pred)\n",
    "print(\"Average Ensemble Score:\", avg2_ensemble_score)"
   ]
  },
  {
   "cell_type": "code",
   "execution_count": 86,
   "id": "83fe0a05",
   "metadata": {},
   "outputs": [
    {
     "name": "stdout",
     "output_type": "stream",
     "text": [
      "Weighted average Ensemble Score: 0.9649122807017544\n"
     ]
    }
   ],
   "source": [
    "weighted2_avg_pred = (weights[0]*lr2_pred + weights[1]*svc2_pred + weights[2]*dt2_pred)\n",
    "weighted2_avg_ensemble_pred = np.argmax(weighted2_avg_pred, axis=1)\n",
    "weighted2_avg_ensemble_score = accuracy_score(y2_test, weighted2_avg_ensemble_pred)\n",
    "print(\"Weighted average Ensemble Score:\", weighted2_avg_ensemble_score)"
   ]
  },
  {
   "cell_type": "code",
   "execution_count": null,
   "id": "4fea8a43",
   "metadata": {},
   "outputs": [],
   "source": []
  }
 ],
 "metadata": {
  "kernelspec": {
   "display_name": "Python 3 (ipykernel)",
   "language": "python",
   "name": "python3"
  },
  "language_info": {
   "codemirror_mode": {
    "name": "ipython",
    "version": 3
   },
   "file_extension": ".py",
   "mimetype": "text/x-python",
   "name": "python",
   "nbconvert_exporter": "python",
   "pygments_lexer": "ipython3",
   "version": "3.9.13"
  }
 },
 "nbformat": 4,
 "nbformat_minor": 5
}
